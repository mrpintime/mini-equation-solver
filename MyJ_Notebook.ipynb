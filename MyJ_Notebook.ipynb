{
 "cells": [
  {
   "cell_type": "markdown",
   "metadata": {},
   "source": [
    "# my miniJupyter nootebok project"
   ]
  },
  {
   "cell_type": "markdown",
   "metadata": {},
   "source": [
    "**Moein Zeidanlou**"
   ]
  },
  {
   "cell_type": "markdown",
   "metadata": {},
   "source": [
    "I currently work in DataScience field"
   ]
  },
  {
   "cell_type": "markdown",
   "metadata": {},
   "source": [
    "*I am interested in data science because in this field we can build great things with data and* \n",
    "*we can focus on data because it is the heart of our world*"
   ]
  },
  {
   "cell_type": "markdown",
   "metadata": {},
   "source": [
    "### my code can solve Quadratic equation with this format ax^2+bx+c=0"
   ]
  },
  {
   "cell_type": "code",
   "execution_count": 18,
   "metadata": {},
   "outputs": [
    {
     "data": {
      "text/plain": [
       "True"
      ]
     },
     "execution_count": 18,
     "metadata": {},
     "output_type": "execute_result"
    }
   ],
   "source": [
    "from math import sqrt # import sqrt function form math library\n",
    "\n",
    "def solve_eq(a, b, c):\n",
    "    # First, we check that a is not equal to zero, because if a is zero, our equation is not quadratic\n",
    "    if a == 0:\n",
    "        return \"if 'a' equal to zero then you equation isn't quadratic equation !!!\"\n",
    "    # solve delta first\n",
    "    delta = b**2-(4*a*c)\n",
    "    # define 3 possible answer for delta\n",
    "    if delta > 0: # if delta is positive then we have 2 roots for our equation\n",
    "        x1 = (-b + sqrt(delta)) / (2*a)\n",
    "        x2 = (-b - sqrt(delta)) / (2*a)\n",
    "        return x1, x2\n",
    "    elif delta == 0 : # if delta equal to 0 then we have one root\n",
    "        x = -b/(2*a)\n",
    "        return x\n",
    "    else: # other possible is delta is lower than zero or negative\n",
    "        return \"There is no root for your equation\"\n",
    "        \n",
    "\n",
    "# test\n",
    "solve_eq(a=1, b=2, c=-3) == (1.0, -3.0)\n"
   ]
  },
  {
   "cell_type": "markdown",
   "metadata": {},
   "source": [
    "- our command line program creation way\n",
    "    1. description\n",
    "    2. create algorithm\n",
    "    3. change algorithm to code\n",
    "    4. test your code\n",
    "\n",
    "`if a == 0:` in our code (line 5) is one of the most important condition\n",
    "\n",
    "If you want more features about Jupyter-Notebook, you can go to <a href=\"https://jupyter.org/\"> Jupyter home </a>\n",
    "\n"
   ]
  }
 ],
 "metadata": {
  "kernelspec": {
   "display_name": "Python 3 (ipykernel)",
   "language": "python",
   "name": "python3"
  },
  "language_info": {
   "codemirror_mode": {
    "name": "ipython",
    "version": 3
   },
   "file_extension": ".py",
   "mimetype": "text/x-python",
   "name": "python",
   "nbconvert_exporter": "python",
   "pygments_lexer": "ipython3",
   "version": "3.10.6"
  }
 },
 "nbformat": 4,
 "nbformat_minor": 4
}
